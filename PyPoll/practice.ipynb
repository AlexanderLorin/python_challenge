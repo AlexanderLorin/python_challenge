{
 "cells": [
  {
   "cell_type": "code",
   "execution_count": 18,
   "source": [
    "\n",
    "import csv\n",
    "vote_count = {}\n",
    "with open(\"Resources/election_data.csv\",\"r\") as csvfile:\n",
    "    csvreader = csv.reader(csvfile)\n",
    "\n",
    "    \n",
    "    #skip first row because it contains column names\n",
    "    columnnames = next(csvreader)\n",
    "    \n",
    "\n",
    "    for row in csvreader:\n",
    "        if row[2] not in list(vote_count.keys()):\n",
    "            vote_count[row[2]] = 1\n",
    "        else:\n",
    "            vote_count[row[2]] += 1\n",
    "\n",
    "\n",
    "        "
   ],
   "outputs": [],
   "metadata": {}
  },
  {
   "cell_type": "code",
   "execution_count": 23,
   "source": [
    "sum(list(vote_count.values()))"
   ],
   "outputs": [
    {
     "output_type": "execute_result",
     "data": {
      "text/plain": [
       "3521002"
      ]
     },
     "metadata": {},
     "execution_count": 23
    }
   ],
   "metadata": {}
  },
  {
   "cell_type": "code",
   "execution_count": null,
   "source": [],
   "outputs": [],
   "metadata": {}
  },
  {
   "cell_type": "code",
   "execution_count": 19,
   "source": [
    "vote_count[\"test\"] = 1\n",
    "list(vote_count.keys())"
   ],
   "outputs": [
    {
     "output_type": "execute_result",
     "data": {
      "text/plain": [
       "['Khan', 'Correy', 'Li', \"O'Tooley\", 'test']"
      ]
     },
     "metadata": {},
     "execution_count": 19
    }
   ],
   "metadata": {}
  },
  {
   "cell_type": "code",
   "execution_count": 6,
   "source": [
    "columnnames"
   ],
   "outputs": [
    {
     "output_type": "execute_result",
     "data": {
      "text/plain": [
       "['Voter ID', 'County', 'Candidate']"
      ]
     },
     "metadata": {},
     "execution_count": 6
    }
   ],
   "metadata": {}
  },
  {
   "cell_type": "code",
   "execution_count": null,
   "source": [],
   "outputs": [],
   "metadata": {}
  }
 ],
 "metadata": {
  "orig_nbformat": 4,
  "language_info": {
   "name": "python",
   "version": "3.8.8",
   "mimetype": "text/x-python",
   "codemirror_mode": {
    "name": "ipython",
    "version": 3
   },
   "pygments_lexer": "ipython3",
   "nbconvert_exporter": "python",
   "file_extension": ".py"
  },
  "kernelspec": {
   "name": "python3",
   "display_name": "Python 3.9.7 64-bit"
  },
  "interpreter": {
   "hash": "aee8b7b246df8f9039afb4144a1f6fd8d2ca17a180786b69acc140d282b71a49"
  }
 },
 "nbformat": 4,
 "nbformat_minor": 2
}